{
 "cells": [
  {
   "cell_type": "code",
   "execution_count": 5,
   "metadata": {},
   "outputs": [
    {
     "ename": "ModuleNotFoundError",
     "evalue": "No module named 'pymysql'",
     "output_type": "error",
     "traceback": [
      "\u001b[1;31m---------------------------------------------------------------------------\u001b[0m",
      "\u001b[1;31mModuleNotFoundError\u001b[0m                       Traceback (most recent call last)",
      "\u001b[1;32m<ipython-input-5-a69d48a5806e>\u001b[0m in \u001b[0;36m<module>\u001b[1;34m\u001b[0m\n\u001b[0;32m     24\u001b[0m \u001b[1;32mimport\u001b[0m \u001b[0mpyautogui\u001b[0m\u001b[1;33m\u001b[0m\u001b[1;33m\u001b[0m\u001b[0m\n\u001b[0;32m     25\u001b[0m \u001b[1;32mimport\u001b[0m \u001b[0mos\u001b[0m\u001b[1;33m.\u001b[0m\u001b[0mpath\u001b[0m\u001b[1;33m\u001b[0m\u001b[1;33m\u001b[0m\u001b[0m\n\u001b[1;32m---> 26\u001b[1;33m \u001b[1;32mimport\u001b[0m \u001b[0mpymysql\u001b[0m\u001b[1;33m\u001b[0m\u001b[1;33m\u001b[0m\u001b[0m\n\u001b[0m\u001b[0;32m     27\u001b[0m \u001b[1;32mimport\u001b[0m \u001b[0mpandas\u001b[0m \u001b[1;32mas\u001b[0m \u001b[0mpd\u001b[0m\u001b[1;33m\u001b[0m\u001b[1;33m\u001b[0m\u001b[0m\n",
      "\u001b[1;31mModuleNotFoundError\u001b[0m: No module named 'pymysql'"
     ]
    }
   ],
   "source": [
    "import os\n",
    "from urllib.request import urlretrieve\n",
    "import datetime\n",
    "from tqdm import tqdm\n",
    "import requests\n",
    "import pandas as pd\n",
    "from bs4 import BeautifulSoup\n",
    "import requests\n",
    "import requests \n",
    "import json \n",
    "import pandas as pd \n",
    "import base64 \n",
    "from selenium import webdriver \n",
    "from webdriver_manager.chrome import ChromeDriverManager \n",
    "from selenium.webdriver.chrome.options import Options \n",
    "from webdriver_manager.utils import ChromeType \n",
    "import os \n",
    "from selenium.webdriver.support.ui import WebDriverWait\n",
    "from selenium.webdriver.support import expected_conditions as EC \n",
    "from selenium.webdriver.common.by import By \n",
    "from bs4 import BeautifulSoup \n",
    "from selenium.webdriver.support.ui import Select \n",
    "import time \n",
    "import pyautogui\n",
    "import os.path\n",
    "import pymysql\n",
    "import pandas as pd "
   ]
  },
  {
   "cell_type": "code",
   "execution_count": 6,
   "metadata": {},
   "outputs": [],
   "source": [
    "def driver_obj(headless=False):\n",
    "#     '',\n",
    "    chrome_options_list = ['--no-sandbox','--disable-dev-shm-usage','--disable-gpu','--disable-infobars','--disable-extensions',\"--window-size=10,10\"]\n",
    "    if headless:\n",
    "        chrome_options_list.append('--headless')\n",
    "    chrome_options = Options()\n",
    "    for i in range(0,len(chrome_options_list)):\n",
    "        chrome_options.add_argument(chrome_options_list[i])\n",
    "    driver = webdriver.Chrome(ChromeDriverManager(latest_release_url='https://chromedriver.storage.googleapis.com/LATEST_RELEASE',url='https://chromedriver.storage.googleapis.com').install(), options=chrome_options)\n",
    "    return (True,driver)\n",
    "    "
   ]
  },
  {
   "cell_type": "code",
   "execution_count": null,
   "metadata": {},
   "outputs": [],
   "source": [
    "\n",
    "\n"
   ]
  },
  {
   "cell_type": "code",
   "execution_count": 27,
   "metadata": {},
   "outputs": [
    {
     "data": {
      "text/plain": [
       "datetime.date(2021, 6, 28)"
      ]
     },
     "execution_count": 27,
     "metadata": {},
     "output_type": "execute_result"
    }
   ],
   "source": []
  },
  {
   "cell_type": "code",
   "execution_count": 29,
   "metadata": {},
   "outputs": [],
   "source": [
    "\n",
    "from datetime import date\n",
    "\n",
    "today = date.today()\n",
    "days = datetime.timedelta(200)\n",
    "\n",
    "start_date = today - days\n",
    "\n",
    "base = 'https://www.wunderground.com/history/daily/KDCA/date/'\n",
    "for i in range(0,5):\n",
    "    date_using = (str(start_date +datetime.timedelta(i)))\n",
    "    url = base + date_using\n",
    "    driver = driver_obj()[1]\n",
    "    driver.get(url)\n",
    "    import time \n",
    "    time.sleep(5)\n",
    "    soup = BeautifulSoup(driver.page_source,'html.parser')\n",
    "    a = soup.find(\"table\", {\"aria-labelledby\": \"History observation\"})\n",
    "    df = pd.read_html(str(a))[0]\n",
    "    df.to_csv(date_using + '.csv',index=False)\n",
    "    driver.close()\n",
    "    "
   ]
  },
  {
   "cell_type": "code",
   "execution_count": 33,
   "metadata": {},
   "outputs": [],
   "source": [
    "import os\n",
    "import glob\n",
    "extension = 'csv'\n",
    "filenames = glob.glob('*.{}'.format(extension))\n",
    "\n",
    "import pandas as pd\n",
    "\n",
    "combined_csv.dropna().to_csv('all_merged.csv',index=False)\n"
   ]
  },
  {
   "cell_type": "code",
   "execution_count": 39,
   "metadata": {},
   "outputs": [],
   "source": [
    "\n",
    "\n",
    "aa = []\n",
    "for f in filenames:\n",
    "    temp = pd.read_csv(f)\n",
    "    temp['date'] = f.replace('.csv','')\n",
    "    aa.append(temp)\n",
    "pd.concat(aa).dropna().to_csv('all_merged.csv',index=False)\n"
   ]
  },
  {
   "cell_type": "code",
   "execution_count": null,
   "metadata": {},
   "outputs": [],
   "source": []
  }
 ],
 "metadata": {
  "kernelspec": {
   "display_name": "Python 3",
   "language": "python",
   "name": "python3"
  },
  "language_info": {
   "codemirror_mode": {
    "name": "ipython",
    "version": 3
   },
   "file_extension": ".py",
   "mimetype": "text/x-python",
   "name": "python",
   "nbconvert_exporter": "python",
   "pygments_lexer": "ipython3",
   "version": "3.8.3"
  }
 },
 "nbformat": 4,
 "nbformat_minor": 4
}
